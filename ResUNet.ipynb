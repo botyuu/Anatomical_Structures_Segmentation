{
 "cells": [
  {
   "cell_type": "code",
   "execution_count": 1,
   "metadata": {
    "scrolled": true
   },
   "outputs": [],
   "source": [
    "import numpy as np\n",
    "import os\n",
    "from sklearn.model_selection import train_test_split\n",
    "import matplotlib.pyplot as plt\n",
    "import tensorflow as tf\n",
    "from models.ResUNet import *\n"
   ]
  },
  {
   "cell_type": "code",
   "execution_count": 2,
   "metadata": {},
   "outputs": [],
   "source": [
    "images = np.load(\"/media/bot/DANE/MED_DATASETS/NARZ_ZAGRO2/FILES/imgs16_half.npy\")\n",
    "labels = np.load(\"/media/bot/DANE/MED_DATASETS/NARZ_ZAGRO2/FILES/masks16_half.npy\")\n",
    "\n",
    "\n",
    "N = images.shape[0]\n",
    "W = images.shape[1]\n",
    "H = images.shape[2]\n",
    "C = labels.shape[3]"
   ]
  },
  {
   "cell_type": "code",
   "execution_count": 3,
   "metadata": {},
   "outputs": [
    {
     "name": "stdout",
     "output_type": "stream",
     "text": [
      "(1020, 256, 256, 1) (1020, 256, 256, 5)\n"
     ]
    }
   ],
   "source": [
    "x_train, x_test_valid, y_train, y_test_valid = train_test_split(images, labels, test_size=0.4, random_state=4)\n",
    "x_valid, x_test, y_valid, y_test = train_test_split(x_test_valid, y_test_valid, test_size=0.5, random_state=4)\n",
    "\n",
    "print(x_train.shape, y_train.shape)"
   ]
  },
  {
   "cell_type": "code",
   "execution_count": 4,
   "metadata": {},
   "outputs": [
    {
     "name": "stdout",
     "output_type": "stream",
     "text": [
      "Model: \"model\"\n",
      "__________________________________________________________________________________________________\n",
      "Layer (type)                    Output Shape         Param #     Connected to                     \n",
      "==================================================================================================\n",
      "input_1 (InputLayer)            [(None, 256, 256, 1) 0                                            \n",
      "__________________________________________________________________________________________________\n",
      "conv2d_1 (Conv2D)               (None, 256, 256, 64) 640         input_1[0][0]                    \n",
      "__________________________________________________________________________________________________\n",
      "add (Add)                       (None, 256, 256, 64) 0           conv2d_1[0][0]                   \n",
      "                                                                 input_1[0][0]                    \n",
      "__________________________________________________________________________________________________\n",
      "batch_normalization_1 (BatchNor (None, 256, 256, 64) 256         add[0][0]                        \n",
      "__________________________________________________________________________________________________\n",
      "conv2d_2 (Conv2D)               (None, 128, 128, 128 73856       batch_normalization_1[0][0]      \n",
      "__________________________________________________________________________________________________\n",
      "activation_1 (Activation)       (None, 128, 128, 128 0           conv2d_2[0][0]                   \n",
      "__________________________________________________________________________________________________\n",
      "batch_normalization_2 (BatchNor (None, 128, 128, 128 512         activation_1[0][0]               \n",
      "__________________________________________________________________________________________________\n",
      "conv2d_3 (Conv2D)               (None, 128, 128, 128 147584      batch_normalization_2[0][0]      \n",
      "__________________________________________________________________________________________________\n",
      "activation_2 (Activation)       (None, 128, 128, 128 0           conv2d_3[0][0]                   \n",
      "__________________________________________________________________________________________________\n",
      "conv2d_4 (Conv2D)               (None, 128, 128, 128 73856       add[0][0]                        \n",
      "__________________________________________________________________________________________________\n",
      "add_1 (Add)                     (None, 128, 128, 128 0           activation_2[0][0]               \n",
      "                                                                 conv2d_4[0][0]                   \n",
      "__________________________________________________________________________________________________\n",
      "batch_normalization_3 (BatchNor (None, 128, 128, 128 512         add_1[0][0]                      \n",
      "__________________________________________________________________________________________________\n",
      "conv2d_5 (Conv2D)               (None, 64, 64, 256)  295168      batch_normalization_3[0][0]      \n",
      "__________________________________________________________________________________________________\n",
      "activation_3 (Activation)       (None, 64, 64, 256)  0           conv2d_5[0][0]                   \n",
      "__________________________________________________________________________________________________\n",
      "batch_normalization_4 (BatchNor (None, 64, 64, 256)  1024        activation_3[0][0]               \n",
      "__________________________________________________________________________________________________\n",
      "conv2d_6 (Conv2D)               (None, 64, 64, 256)  590080      batch_normalization_4[0][0]      \n",
      "__________________________________________________________________________________________________\n",
      "activation_4 (Activation)       (None, 64, 64, 256)  0           conv2d_6[0][0]                   \n",
      "__________________________________________________________________________________________________\n",
      "conv2d_7 (Conv2D)               (None, 64, 64, 256)  295168      add_1[0][0]                      \n",
      "__________________________________________________________________________________________________\n",
      "add_2 (Add)                     (None, 64, 64, 256)  0           activation_4[0][0]               \n",
      "                                                                 conv2d_7[0][0]                   \n",
      "__________________________________________________________________________________________________\n",
      "batch_normalization_5 (BatchNor (None, 64, 64, 256)  1024        add_2[0][0]                      \n",
      "__________________________________________________________________________________________________\n",
      "conv2d_8 (Conv2D)               (None, 32, 32, 512)  1180160     batch_normalization_5[0][0]      \n",
      "__________________________________________________________________________________________________\n",
      "activation_5 (Activation)       (None, 32, 32, 512)  0           conv2d_8[0][0]                   \n",
      "__________________________________________________________________________________________________\n",
      "batch_normalization_6 (BatchNor (None, 32, 32, 512)  2048        activation_5[0][0]               \n",
      "__________________________________________________________________________________________________\n",
      "conv2d_9 (Conv2D)               (None, 32, 32, 512)  2359808     batch_normalization_6[0][0]      \n",
      "__________________________________________________________________________________________________\n",
      "activation_6 (Activation)       (None, 32, 32, 512)  0           conv2d_9[0][0]                   \n",
      "__________________________________________________________________________________________________\n",
      "conv2d_10 (Conv2D)              (None, 32, 32, 512)  1180160     add_2[0][0]                      \n",
      "__________________________________________________________________________________________________\n",
      "add_3 (Add)                     (None, 32, 32, 512)  0           activation_6[0][0]               \n",
      "                                                                 conv2d_10[0][0]                  \n",
      "__________________________________________________________________________________________________\n",
      "conv2d_transpose (Conv2DTranspo (None, 64, 64, 256)  1179904     add_3[0][0]                      \n",
      "__________________________________________________________________________________________________\n",
      "concatenate (Concatenate)       (None, 64, 64, 512)  0           conv2d_transpose[0][0]           \n",
      "                                                                 add_2[0][0]                      \n",
      "__________________________________________________________________________________________________\n",
      "batch_normalization_7 (BatchNor (None, 64, 64, 512)  2048        concatenate[0][0]                \n",
      "__________________________________________________________________________________________________\n",
      "conv2d_11 (Conv2D)              (None, 64, 64, 256)  1179904     batch_normalization_7[0][0]      \n",
      "__________________________________________________________________________________________________\n",
      "activation_7 (Activation)       (None, 64, 64, 256)  0           conv2d_11[0][0]                  \n",
      "__________________________________________________________________________________________________\n",
      "batch_normalization_8 (BatchNor (None, 64, 64, 256)  1024        activation_7[0][0]               \n",
      "__________________________________________________________________________________________________\n",
      "conv2d_12 (Conv2D)              (None, 64, 64, 256)  590080      batch_normalization_8[0][0]      \n",
      "__________________________________________________________________________________________________\n",
      "activation_8 (Activation)       (None, 64, 64, 256)  0           conv2d_12[0][0]                  \n",
      "__________________________________________________________________________________________________\n",
      "conv2d_13 (Conv2D)              (None, 64, 64, 256)  1179904     concatenate[0][0]                \n",
      "__________________________________________________________________________________________________\n",
      "add_4 (Add)                     (None, 64, 64, 256)  0           activation_8[0][0]               \n",
      "                                                                 conv2d_13[0][0]                  \n",
      "__________________________________________________________________________________________________\n",
      "conv2d_transpose_1 (Conv2DTrans (None, 128, 128, 128 295040      add_4[0][0]                      \n",
      "__________________________________________________________________________________________________\n",
      "concatenate_1 (Concatenate)     (None, 128, 128, 256 0           conv2d_transpose_1[0][0]         \n",
      "                                                                 add_1[0][0]                      \n",
      "__________________________________________________________________________________________________\n",
      "batch_normalization_9 (BatchNor (None, 128, 128, 256 1024        concatenate_1[0][0]              \n",
      "__________________________________________________________________________________________________\n",
      "conv2d_14 (Conv2D)              (None, 128, 128, 128 295040      batch_normalization_9[0][0]      \n",
      "__________________________________________________________________________________________________\n",
      "activation_9 (Activation)       (None, 128, 128, 128 0           conv2d_14[0][0]                  \n",
      "__________________________________________________________________________________________________\n",
      "batch_normalization_10 (BatchNo (None, 128, 128, 128 512         activation_9[0][0]               \n",
      "__________________________________________________________________________________________________\n",
      "conv2d_15 (Conv2D)              (None, 128, 128, 128 147584      batch_normalization_10[0][0]     \n",
      "__________________________________________________________________________________________________\n",
      "activation_10 (Activation)      (None, 128, 128, 128 0           conv2d_15[0][0]                  \n",
      "__________________________________________________________________________________________________\n",
      "conv2d_16 (Conv2D)              (None, 128, 128, 128 295040      concatenate_1[0][0]              \n",
      "__________________________________________________________________________________________________\n",
      "add_5 (Add)                     (None, 128, 128, 128 0           activation_10[0][0]              \n",
      "                                                                 conv2d_16[0][0]                  \n",
      "__________________________________________________________________________________________________\n",
      "conv2d_transpose_2 (Conv2DTrans (None, 256, 256, 64) 73792       add_5[0][0]                      \n",
      "__________________________________________________________________________________________________\n",
      "concatenate_2 (Concatenate)     (None, 256, 256, 128 0           conv2d_transpose_2[0][0]         \n",
      "                                                                 add[0][0]                        \n",
      "__________________________________________________________________________________________________\n",
      "batch_normalization_11 (BatchNo (None, 256, 256, 128 512         concatenate_2[0][0]              \n",
      "__________________________________________________________________________________________________\n",
      "conv2d_17 (Conv2D)              (None, 256, 256, 64) 73792       batch_normalization_11[0][0]     \n",
      "__________________________________________________________________________________________________\n",
      "activation_11 (Activation)      (None, 256, 256, 64) 0           conv2d_17[0][0]                  \n",
      "__________________________________________________________________________________________________\n",
      "batch_normalization_12 (BatchNo (None, 256, 256, 64) 256         activation_11[0][0]              \n",
      "__________________________________________________________________________________________________\n",
      "conv2d_18 (Conv2D)              (None, 256, 256, 64) 36928       batch_normalization_12[0][0]     \n",
      "__________________________________________________________________________________________________\n",
      "activation_12 (Activation)      (None, 256, 256, 64) 0           conv2d_18[0][0]                  \n",
      "__________________________________________________________________________________________________\n",
      "conv2d_19 (Conv2D)              (None, 256, 256, 64) 73792       concatenate_2[0][0]              \n",
      "__________________________________________________________________________________________________\n",
      "add_6 (Add)                     (None, 256, 256, 64) 0           activation_12[0][0]              \n",
      "                                                                 conv2d_19[0][0]                  \n",
      "__________________________________________________________________________________________________\n",
      "conv2d_20 (Conv2D)              (None, 256, 256, 5)  325         add_6[0][0]                      \n",
      "==================================================================================================\n",
      "Total params: 11,628,357\n",
      "Trainable params: 11,622,981\n",
      "Non-trainable params: 5,376\n",
      "__________________________________________________________________________________________________\n",
      "None\n"
     ]
    }
   ],
   "source": [
    "seg_model = ResUNet(img_shape = (H, W, 1), num_of_class = C,learning_rate = 2e-4, path = \"saved_models/UNet_model_300_100\", do_drop = True, drop_rate = 0.5)\n",
    "seg_model.build_model()\n",
    "seg_model.show_model()"
   ]
  },
  {
   "cell_type": "code",
   "execution_count": null,
   "metadata": {
    "scrolled": true
   },
   "outputs": [
    {
     "name": "stdout",
     "output_type": "stream",
     "text": [
      "Epoch 1/100\n",
      "128/128 [==============================] - 2051s 16s/step - loss: 57.2056 - dice_coef_multilabel: 0.0391 - iou_multilabel: 0.0214 - val_loss: 2.6482 - val_dice_coef_multilabel: 0.1096 - val_iou_multilabel: 0.0641\n",
      "INFO:tensorflow:Assets written to: saved_models/ResUNet_smaller_imgs/assets\n",
      "Epoch 2/100\n",
      "128/128 [==============================] - 2104s 16s/step - loss: 2.7202 - dice_coef_multilabel: 0.1163 - iou_multilabel: 0.0681 - val_loss: 1.6108 - val_dice_coef_multilabel: 0.1393 - val_iou_multilabel: 0.0843\n",
      "INFO:tensorflow:Assets written to: saved_models/ResUNet_smaller_imgs/assets\n",
      "Epoch 3/100\n",
      "128/128 [==============================] - 2542s 20s/step - loss: 1.9510 - dice_coef_multilabel: 0.1335 - iou_multilabel: 0.0803 - val_loss: 4.4264 - val_dice_coef_multilabel: 0.1134 - val_iou_multilabel: 0.0664\n",
      "Epoch 4/100\n",
      "128/128 [==============================] - 2351s 18s/step - loss: 3.0232 - dice_coef_multilabel: 0.1254 - iou_multilabel: 0.0765 - val_loss: 2.6056 - val_dice_coef_multilabel: 0.0549 - val_iou_multilabel: 0.0315\n",
      "Epoch 5/100\n",
      "128/128 [==============================] - 2128s 17s/step - loss: 3.9796 - dice_coef_multilabel: 0.0906 - iou_multilabel: 0.0544 - val_loss: 2.7638 - val_dice_coef_multilabel: 0.1842 - val_iou_multilabel: 0.1208\n",
      "INFO:tensorflow:Assets written to: saved_models/ResUNet_smaller_imgs/assets\n",
      "Epoch 6/100\n",
      "128/128 [==============================] - 2293s 18s/step - loss: 3.2575 - dice_coef_multilabel: 0.1570 - iou_multilabel: 0.1023 - val_loss: 0.9556 - val_dice_coef_multilabel: 0.1919 - val_iou_multilabel: 0.1277\n",
      "INFO:tensorflow:Assets written to: saved_models/ResUNet_smaller_imgs/assets\n",
      "Epoch 7/100\n",
      "128/128 [==============================] - 1937s 15s/step - loss: 3.3342 - dice_coef_multilabel: 0.1727 - iou_multilabel: 0.1129 - val_loss: 8.7326 - val_dice_coef_multilabel: 0.0969 - val_iou_multilabel: 0.0646\n",
      "Epoch 8/100\n",
      "128/128 [==============================] - 1935s 15s/step - loss: 5.1494 - dice_coef_multilabel: 0.1188 - iou_multilabel: 0.0763 - val_loss: 7.7918 - val_dice_coef_multilabel: 0.1140 - val_iou_multilabel: 0.0766\n",
      "Epoch 9/100\n",
      "128/128 [==============================] - 1934s 15s/step - loss: 5.3859 - dice_coef_multilabel: 0.1452 - iou_multilabel: 0.0948 - val_loss: 5.0508 - val_dice_coef_multilabel: 0.1112 - val_iou_multilabel: 0.0755\n",
      "Epoch 10/100\n",
      "128/128 [==============================] - 1937s 15s/step - loss: 2.9194 - dice_coef_multilabel: 0.1608 - iou_multilabel: 0.1076 - val_loss: 4.5789 - val_dice_coef_multilabel: 0.0470 - val_iou_multilabel: 0.0251\n",
      "Epoch 11/100\n",
      "128/128 [==============================] - 1933s 15s/step - loss: 5.7732 - dice_coef_multilabel: 0.0915 - iou_multilabel: 0.0595 - val_loss: 2.7418 - val_dice_coef_multilabel: 0.1569 - val_iou_multilabel: 0.0997\n",
      "Epoch 12/100\n",
      "128/128 [==============================] - 1936s 15s/step - loss: 2.3340 - dice_coef_multilabel: 0.1671 - iou_multilabel: 0.1121 - val_loss: 2.4146 - val_dice_coef_multilabel: 0.2378 - val_iou_multilabel: 0.1708\n",
      "INFO:tensorflow:Assets written to: saved_models/ResUNet_smaller_imgs/assets\n",
      "Epoch 13/100\n",
      "128/128 [==============================] - 1993s 16s/step - loss: 2.1213 - dice_coef_multilabel: 0.1577 - iou_multilabel: 0.1078 - val_loss: 2.7733 - val_dice_coef_multilabel: 0.2216 - val_iou_multilabel: 0.1561\n",
      "Epoch 14/100\n",
      "128/128 [==============================] - 2158s 17s/step - loss: 5.2562 - dice_coef_multilabel: 0.1364 - iou_multilabel: 0.0934 - val_loss: 2.6264 - val_dice_coef_multilabel: 0.1275 - val_iou_multilabel: 0.0869\n",
      "Epoch 15/100\n",
      "128/128 [==============================] - 2168s 17s/step - loss: 2.8586 - dice_coef_multilabel: 0.1541 - iou_multilabel: 0.1061 - val_loss: 1.2487 - val_dice_coef_multilabel: 0.2065 - val_iou_multilabel: 0.1405\n",
      "Epoch 16/100\n",
      "128/128 [==============================] - 2062s 16s/step - loss: 2.3179 - dice_coef_multilabel: 0.1737 - iou_multilabel: 0.1166 - val_loss: 1.3221 - val_dice_coef_multilabel: 0.1950 - val_iou_multilabel: 0.1254\n",
      "Epoch 17/100\n",
      "128/128 [==============================] - 1888s 15s/step - loss: 2.9626 - dice_coef_multilabel: 0.1397 - iou_multilabel: 0.0947 - val_loss: 0.9879 - val_dice_coef_multilabel: 0.1916 - val_iou_multilabel: 0.1272\n",
      "Epoch 18/100\n",
      "128/128 [==============================] - 1887s 15s/step - loss: 1.6656 - dice_coef_multilabel: 0.1780 - iou_multilabel: 0.1197 - val_loss: 6.8791 - val_dice_coef_multilabel: 0.1267 - val_iou_multilabel: 0.0793\n",
      "Epoch 19/100\n",
      "128/128 [==============================] - 1905s 15s/step - loss: 5.9030 - dice_coef_multilabel: 0.0790 - iou_multilabel: 0.0523 - val_loss: 2.8410 - val_dice_coef_multilabel: 0.1650 - val_iou_multilabel: 0.1070\n",
      "Epoch 20/100\n",
      " 16/128 [==>...........................] - ETA: 30:25 - loss: 3.7218 - dice_coef_multilabel: 0.1467 - iou_multilabel: 0.0971"
     ]
    }
   ],
   "source": [
    "history = seg_model.train(x_train, y_train, x_valid, y_valid, epoch = 100, batch_size = 8)"
   ]
  },
  {
   "cell_type": "code",
   "execution_count": 4,
   "metadata": {},
   "outputs": [
    {
     "name": "stdout",
     "output_type": "stream",
     "text": [
      "TRAIN DICE_COEF:  0.24619496\n",
      "TRAIN IoU:  0.17802517\n",
      "TEST DICE_COEF:  0.2441899\n",
      "TEST IoU:  0.0\n"
     ]
    }
   ],
   "source": [
    "loaded_model = tf.keras.models.load_model('saved_models/ResUNet_smaller_imgs', custom_objects={\"dice_coef_multilabel\": dice_coef_multilabel, \"iou_multilabel\": iou_multilabel})\n",
    "\n",
    "preds_train = loaded_model.predict(x_train)\n",
    "print(\"TRAIN DICE_COEF: \", dice_coef_multilabel(y_train.astype('float32'), preds_train).numpy())\n",
    "print(\"TRAIN IoU: \", iou_multilabel(y_train.astype('float32'), preds_train, 5).numpy())\n",
    "\n",
    "preds_test = loaded_model.predict(x_test)\n",
    "print(\"TEST DICE_COEF: \", dice_coef_multilabel(y_test.astype('float32'), preds_test).numpy())\n",
    "print(\"TEST IoU: \", iou_multilabel(y_test.astype('float32'), preds_test, 1).numpy())"
   ]
  },
  {
   "cell_type": "code",
   "execution_count": 5,
   "metadata": {},
   "outputs": [
    {
     "name": "stdout",
     "output_type": "stream",
     "text": [
      "TEST DICE_COEF, IOU Spinal cord:  6.079435e-12 0.0\n",
      "TEST DICE_COEF, IOU Left lung:  0.5804844 0.4089313\n",
      "TEST DICE_COEF, IOU Right lung:  0.64005643 0.4706493\n",
      "TEST DICE_COEF, IOU Heart:  5.429907e-13 0.0\n",
      "TEST DICE_COEF, IOU Esophagus:  0.00040880367 0.00020444363\n"
     ]
    }
   ],
   "source": [
    "print(\"TEST DICE_COEF, IOU Spinal cord: \", dice_coef(y_test.astype('float32')[:, :, :, 0], preds_test[:, :, :, 0]).numpy(), iou(y_test.astype('float32')[:, :, :, 0], preds_test[:, :, :, 0]).numpy())\n",
    "print(\"TEST DICE_COEF, IOU Left lung: \", dice_coef(y_test.astype('float32')[:, :, :, 1], preds_test[:, :, :, 1]).numpy(), iou(y_test.astype('float32')[:, :, :, 1], preds_test[:, :, :, 1]).numpy())\n",
    "print(\"TEST DICE_COEF, IOU Right lung: \", dice_coef(y_test.astype('float32')[:, :, :, 2], preds_test[:, :, :, 2]).numpy(), iou(y_test.astype('float32')[:, :, :, 2], preds_test[:, :, :, 2]).numpy())\n",
    "print(\"TEST DICE_COEF, IOU Heart: \", dice_coef(y_test.astype('float32')[:, :, :, 3], preds_test[:, :, :, 3]).numpy(), iou(y_test.astype('float32')[:, :, :, 3], preds_test[:, :, :, 3]).numpy())\n",
    "print(\"TEST DICE_COEF, IOU Esophagus: \", dice_coef(y_test.astype('float32')[:, :, :, 4], preds_test[:, :, :, 4]).numpy(), iou(y_test.astype('float32')[:, :, :, 4], preds_test[:, :, :, 4]).numpy())"
   ]
  },
  {
   "cell_type": "code",
   "execution_count": null,
   "metadata": {},
   "outputs": [],
   "source": []
  }
 ],
 "metadata": {
  "kernelspec": {
   "display_name": "Python 3",
   "language": "python",
   "name": "python3"
  },
  "language_info": {
   "codemirror_mode": {
    "name": "ipython",
    "version": 3
   },
   "file_extension": ".py",
   "mimetype": "text/x-python",
   "name": "python",
   "nbconvert_exporter": "python",
   "pygments_lexer": "ipython3",
   "version": "3.8.8"
  }
 },
 "nbformat": 4,
 "nbformat_minor": 2
}
